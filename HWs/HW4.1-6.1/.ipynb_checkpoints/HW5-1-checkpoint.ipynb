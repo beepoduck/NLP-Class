{
 "cells": [
  {
   "cell_type": "markdown",
   "metadata": {},
   "source": [
    "# HW5.1 text classification with logistic regression. \n",
    "\n",
    "We will use the same dataset Triage as last time. Here is what's in this assignment: \n",
    "\n",
    "1. we will explore several options of how to convert text to vectors to be fed into a logistic regression classifier using sklearn. \n",
    "2. we will implement and train a logistic regression classifier using Python (no sklearn!).\n",
    "3. we will compare the text classification result with those you got from the NB last week. \n",
    "\n",
    "## PART I: text input representation: converting text to vectors\n",
    "\n",
    "There are many ways to convert text to vectors. Let's try two ways in this assignment. \n",
    "\n",
    "1. Count vectors \n",
    "\n",
    "Read the documentation for sklearn ```CountVectorizer``` here: https://scikit-learn.org/stable/modules/generated/sklearn.feature_extraction.text.CountVectorizer.html#sklearn.feature_extraction.text.CountVectorizer.fit_transform \n",
    "\n",
    "2. Normalized counts - tfidf\n",
    "\n",
    "Read the documentation for sklearn ```tfidfVectorizer``` here: https://scikit-learn.org/stable/modules/generated/sklearn.feature_extraction.text.TfidfVectorizer.html#sklearn.feature_extraction.text.TfidfVectorizer\n",
    "\n",
    "Make sure you understood the code examples for those two vectorizers. \n",
    "\n"
   ]
  },
  {
   "cell_type": "markdown",
   "metadata": {},
   "source": [
    "### logistic regression with unigram count vectors\n"
   ]
  },
  {
   "cell_type": "code",
   "execution_count": 26,
   "metadata": {},
   "outputs": [
    {
     "name": "stdout",
     "output_type": "stream",
     "text": [
      "['about' 'and' 'document' 'documents' 'first' 'how' 'is' 'one' 'second'\n",
      " 'the' 'these' 'third' 'this']\n",
      "[[0 0 1 0 1 0 1 0 0 1 0 0 1]\n",
      " [0 0 2 0 0 0 1 0 1 1 0 0 1]\n",
      " [0 1 0 0 0 0 1 1 0 1 0 1 1]\n",
      " [0 0 1 0 1 0 1 0 0 1 0 0 1]\n",
      " [1 0 0 1 0 1 0 0 0 0 1 0 0]]\n"
     ]
    }
   ],
   "source": [
    "# This example shows how to convert text to Count vectors. When you use get_feature_names_out() function,\n",
    "# you can see which position of the vector correspond to which word in the vocabulary. \n",
    "# but usually we don't need to pay too much attention to that. \n",
    "\n",
    "from sklearn.feature_extraction.text import CountVectorizer, TfidfVectorizer\n",
    "\n",
    "corpus = ['this is the first document',\n",
    "          'this document is the second document',\n",
    "          'and this is the third one',\n",
    "          'is this the first document',\n",
    "          'how about these documents']\n",
    "\n",
    "vectorizer = CountVectorizer()\n",
    "X = vectorizer.fit_transform(corpus)\n",
    "print(vectorizer.get_feature_names_out())\n",
    "\n",
    "print(X.toarray())\n",
    "\n",
    "# I CREATED THE UNIGRAM VECTORS FOR LOGISTIC RERESSION WITH UNIGRAM COUNT VECTORS AT THE BOTTOM OF THE PAGE\n",
    "# IN ORDER FOR IT TO BE IN THE SAME STYLE AS ALL THE OTHER VECTORS. IT IS RIGHT ABOVE THE \"WRAPPING UP\"\n",
    "# SECTION AT THE BOTTOM."
   ]
  },
  {
   "cell_type": "markdown",
   "metadata": {},
   "source": [
    "#### you turn: read the Triage dataset using the same loader from last time, and convert your text documents into a count vector. "
   ]
  },
  {
   "cell_type": "code",
   "execution_count": 27,
   "metadata": {},
   "outputs": [],
   "source": [
    "# similar to the example above, your document \n",
    "from util import load_data, Dataset, Example\n",
    "import numpy as np\n",
    "dataset = load_data(\"./data/triage\")\n",
    "\n",
    "\n",
    "def get_data(split:list[Example])->(list[str],list[int]):\n",
    "    \"\"\"\n",
    "    massage the data into a format consistent with the input type required by CountVectorizer or tfidfVectorizer. \n",
    "\n",
    "    args \n",
    "        split: pass in the split, which should be either dataset.train or dataset.dev\n",
    "\n",
    "    returns: \n",
    "        text: list of sentences\n",
    "        labels: list of labels  \n",
    "\n",
    "    \"\"\"\n",
    "    text = [' '.join(example.words) for example in split]\n",
    "    labels = [example.label for example in split]\n",
    "    return text, labels\n",
    "    \n",
    "\n",
    "# Load data using get_data\n",
    "train_text, train_label = get_data(dataset.train)\n",
    "dev_text, dev_label = get_data(dataset.dev)"
   ]
  },
  {
   "cell_type": "markdown",
   "metadata": {},
   "source": [
    "#### load the data using get_data() and then convert them into count vector\n",
    "```\n",
    "train_text, train_label = get_data(dataset.train)\n",
    "dev_text, dev_label = get_data(dataset.dev)\n",
    "```\n",
    "\n",
    "#### IMPORTANT note: \n",
    "You need to transform both train and dev data into a vector before feeding them into a classifier. But ```fit_transform()``` is a composition of two functions: fit and transform. \n",
    "You should use ```fit_transform()``` to fit the vector to your train text and transform it to the vector,\n",
    "but when you deal with the dev text, you don't need to fit the Vectorizer any more, you just need to use the \n",
    "Vectorizer you fit on the train data, and simply ```transform()``` it. Don't use ```fit_transform()``` on both data splits. \n",
    "To confirm that you are using the same Vectorizer for both train data and test data, you should get the feature names out\n",
    "and see that they have the same length. \n",
    "e.g., : \n",
    "\n",
    "```\n",
    "names=vectorizer.get_feature_names_out()\n",
    "print(len(names))\n",
    "```\n",
    "\n",
    "Because the train and dev split have different vocabulary sizes, if you ```fit_transform``` on each of them you will end up with vectors of different lengths. Since your classifier is trained with the input vector length from train, it should not take input with a different vector length on the dev data. "
   ]
  },
  {
   "cell_type": "code",
   "execution_count": 28,
   "metadata": {},
   "outputs": [
    {
     "name": "stdout",
     "output_type": "stream",
     "text": [
      "31211\n"
     ]
    }
   ],
   "source": [
    "# YOUR CODE HERE to convert both train and dev data into Count vectors\n",
    "\n",
    "vectorizer = CountVectorizer()\n",
    "\n",
    "X_train = vectorizer.fit_transform(train_text)\n",
    "\n",
    "X_dev = vectorizer.transform(dev_text)\n",
    "\n",
    "names = vectorizer.get_feature_names_out()\n",
    "print(len(names))\n",
    "\n"
   ]
  },
  {
   "cell_type": "markdown",
   "metadata": {},
   "source": [
    "## logistic regression with bigram count vectors\n",
    "\n",
    "When using the CountVectorizer, you can also use bigram or Ngram counts. If you read the documentation for  ```CountVectorizer``` above, you will find the argument called ```ngram_range```. Try to use both unigrams and bigrams for this task. "
   ]
  },
  {
   "cell_type": "code",
   "execution_count": 29,
   "metadata": {},
   "outputs": [],
   "source": [
    "# Code to apply CountVectorizer using unigrams and bigrams\n",
    "# YOUR CODE HERE\n",
    "\n",
    "vectorizer_bigram = CountVectorizer(ngram_range=(1, 2))\n",
    "X_train_bigram = vectorizer_bigram.fit_transform(train_text)\n",
    "X_dev_bigram = vectorizer_bigram.transform(dev_text)"
   ]
  },
  {
   "cell_type": "code",
   "execution_count": 30,
   "metadata": {},
   "outputs": [
    {
     "name": "stdout",
     "output_type": "stream",
     "text": [
      "Length of TF-IDF vector: 31211\n",
      "First 10 words/bigrams: ['00' '000' '0000' '000ha' '000l' '000lt' '000m2' '000rmb' '004' '00h58']\n",
      "Last 10 words/bigrams: ['état' 'été' 'ötanos' 'üan' 'üaram' 'üei' 'ühurricane' 'ülol' 'üthe'\n",
      " 'üthis']\n"
     ]
    }
   ],
   "source": [
    "# Refer to the tfidfVectorizer linked above to transform the text into tfidf vectors\n",
    "# YOUR CODE HERE\n",
    "\n",
    "tfidf_vectorizer = TfidfVectorizer()\n",
    "X_train_tfidf = tfidf_vectorizer.fit_transform(train_text)\n",
    "X_dev_tfidf = tfidf_vectorizer.transform(dev_text)\n",
    "\n",
    "\n",
    "# After you have transformed your text (train and dev) into tfidf vectors, try to get the names of \n",
    "# the vector elements at each position and print out the length of the vector. Inspect the names of\n",
    "# the vectors from different portions of the vector. What do you see in the vocabulary?\n",
    "\n",
    "feature_names = tfidf_vectorizer.get_feature_names_out()\n",
    "print(f\"Length of TF-IDF vector: {len(feature_names)}\")\n",
    "print(\"First 10 words/bigrams:\", feature_names[:10])\n",
    "print(\"Last 10 words/bigrams:\", feature_names[-10:])"
   ]
  },
  {
   "cell_type": "markdown",
   "metadata": {},
   "source": [
    "The vocabulary looks a little strange. I think because there is a mix of language in the text (english and french), it is struggling with the accents. Additionally, there are numbers in the data which is making the words look strange."
   ]
  },
  {
   "cell_type": "markdown",
   "metadata": {},
   "source": [
    "## logistic regression with tfidf vectors"
   ]
  },
  {
   "cell_type": "code",
   "execution_count": 31,
   "metadata": {},
   "outputs": [],
   "source": [
    "import numpy as np\n",
    "import matplotlib.pyplot as plt\n",
    "\n",
    "# create train and test sets. train_label and dev_label was created above.\n",
    "# the Xtrain and Xtest should be the result variable of passing the train_text and dev_text through the vectorizer. \n",
    "\n",
    "Xtrain, Xtest = X_train_tfidf, X_dev_tfidf\n",
    "Ytrain = np.array(train_label)\n",
    "Ytest = np.array(dev_label)"
   ]
  },
  {
   "cell_type": "code",
   "execution_count": null,
   "metadata": {},
   "outputs": [],
   "source": []
  },
  {
   "cell_type": "markdown",
   "metadata": {},
   "source": [
    "# PART II: Logistic regression from scratch\n",
    "\n",
    "We have seen in class there are four components in a standard linear classifier: features (input), forward pass (function to compute p(Y|X)), a loss function (to measure the errors the system makes), and the optimizer/iterative learning process to adjust the weights to minimize the errors. We've already taken care of the input features above. Let's now implement the rest of the components. Let's use the tfidf vectors for this implemetation.\n",
    "\n",
    "Recipe: \n",
    "```\n",
    "   1. Initialize the parameters\n",
    "Repeat {\n",
    "   2. Make a prediction y_hat\n",
    "   3. Calculate loss function\n",
    "   4. Get gradient for loss function\n",
    "   5. Update parameters W, b\n",
    " }\n",
    "```"
   ]
  },
  {
   "cell_type": "code",
   "execution_count": 32,
   "metadata": {},
   "outputs": [],
   "source": [
    "# randomly initialize weights\n",
    "D = Xtrain.shape[1]\n",
    "W = np.random.randn(D)\n",
    "b = 0 # bias term\n",
    "\n",
    "# make predictions\n",
    "def sigmoid(z):\n",
    "    \"\"\"\n",
    "    sigmoid function\n",
    "    \n",
    "    args\n",
    "        z: the result of linear computation, z = X.dot(W) + b\n",
    "    \"\"\"\n",
    "    \n",
    "    z = np.clip(z, -250, 250)\n",
    "    return 1 / (1 + np.exp(-z))\n",
    "    \n",
    "\n",
    "def forward(X, W, b):\n",
    "    \"\"\"\n",
    "    forward pass, return the result of passing X.dot(W)+b through sigmoid function\n",
    "\n",
    "    args\n",
    "        X: input features\n",
    "        W: weights\n",
    "        b: biases\n",
    "    \"\"\"\n",
    "    return sigmoid(X.dot(W) + b)\n",
    "\n",
    "# calculate the accuracy\n",
    "def classification_rate(Y, Y_HAT):\n",
    "    return np.mean(Y == Y_HAT)\n",
    "\n",
    "# cross entropy\n",
    "def cross_entropy(T, pY):\n",
    "    return -np.mean(T*np.log(pY) + (1 - T)*np.log(1 - pY))\n",
    "\n",
    "# train loop\n",
    "\n",
    "\n",
    "# use these lists to store the loss values during the training, so you can visualize them later in a curve\n",
    "train_loss = [] \n",
    "test_loss = []\n",
    "\n",
    "learning_rate = 0.001\n",
    "num_iter = 10000 # iterate this many times to update the weights\n",
    "for i in range(num_iter):\n",
    "    # Forward pass\n",
    "    p_Ytrain = forward(Xtrain, W, b)\n",
    "    p_Ytest = forward(Xtest, W, b)\n",
    "    \n",
    "    # Loss computation\n",
    "    train_loss.append(cross_entropy(Ytrain, p_Ytrain))\n",
    "    test_loss.append(cross_entropy(Ytest, p_Ytest))\n",
    "    \n",
    "    # Gradient computation\n",
    "    # dw = (1 / Xtrain.shape[0]) * np.dot(Xtrain.T, (p_Ytrain - Ytrain).T)\n",
    "    # db = (1 / Xtrain.shape[0]) * np.sum(p_Ytrain - Ytrain)\n",
    "    dw = Xtrain.T.dot(p_Ytrain - Ytrain)\n",
    "    db = np.sum(p_Ytrain - Ytrain)\n",
    "    \n",
    "    # Weights update\n",
    "    W -= learning_rate * dw\n",
    "    b -= learning_rate * db"
   ]
  },
  {
   "cell_type": "code",
   "execution_count": 33,
   "metadata": {},
   "outputs": [
    {
     "name": "stdout",
     "output_type": "stream",
     "text": [
      "Final train classification_rate: 0.9347619500142544\n",
      "Final test classification_rate: 0.7629226583754373\n"
     ]
    },
    {
     "data": {
      "image/png": "[encoded data removed]",
      "text/plain": [
       "<Figure size 640x480 with 1 Axes>"
      ]
     },
     "metadata": {},
     "output_type": "display_data"
    }
   ],
   "source": [
    "# evaluate your model after it is trained. What is the accuracy? \n",
    "print(\"Final train classification_rate:\", classification_rate(Ytrain, np.round(p_Ytrain)))\n",
    "print(\"Final test classification_rate:\", classification_rate(Ytest, np.round(p_Ytest)))\n",
    "\n",
    "# finally plot the trajectory of the training curve \n",
    "legend1, = plt.plot(train_loss, label='train loss')\n",
    "legend2, = plt.plot(test_loss, label='test loss')\n",
    "plt.legend([\"train\", \"test\"])\n",
    "plt.show()"
   ]
  },
  {
   "cell_type": "markdown",
   "metadata": {},
   "source": [
    "# PART III: compare different vectors\n",
    "\n",
    "Now substitute the tfidf vectors with the unigram, and unigram+bigram count vectors. Train the model again. How is the accuracy this time?"
   ]
  },
  {
   "cell_type": "code",
   "execution_count": 34,
   "metadata": {},
   "outputs": [],
   "source": [
    "import numpy as np\n",
    "import matplotlib.pyplot as plt\n",
    "\n",
    "# create train and test sets. train_label and dev_label was created above.\n",
    "# the Xtrain and Xtest should be the result variable of passing the train_text and dev_text through the vectorizer. \n",
    "\n",
    "Xtrain, Xtest = X_train_bigram, X_dev_bigram\n",
    "Ytrain = np.array(train_label)\n",
    "Ytest = np.array(dev_label)\n",
    "\n",
    "# randomly initialize weights\n",
    "D = Xtrain.shape[1]\n",
    "W = np.random.randn(D)\n",
    "b = 0 # bias term\n",
    "\n",
    "# make predictions\n",
    "def sigmoid(z):\n",
    "    \"\"\"\n",
    "    sigmoid function\n",
    "    \n",
    "    args\n",
    "        z: the result of linear computation, z = X.dot(W) + b\n",
    "    \"\"\"\n",
    "    \n",
    "    z = np.clip(z, -250, 250)\n",
    "    return 1 / (1 + np.exp(-z))\n",
    "    \n",
    "\n",
    "def forward(X, W, b):\n",
    "    \"\"\"\n",
    "    forward pass, return the result of passing X.dot(W)+b through sigmoid function\n",
    "\n",
    "    args\n",
    "        X: input features\n",
    "        W: weights\n",
    "        b: biases\n",
    "    \"\"\"\n",
    "    return sigmoid(X.dot(W) + b)\n",
    "\n",
    "# calculate the accuracy\n",
    "def classification_rate(Y, Y_HAT):\n",
    "    return np.mean(Y == Y_HAT)\n",
    "\n",
    "# cross entropy\n",
    "def cross_entropy(T, pY):\n",
    "    pY = np.clip(pY, 1e-10, 1-1e-10)\n",
    "    return -np.mean(T*np.log(pY) + (1 - T)*np.log(1 - pY))\n",
    "\n",
    "# train loop\n",
    "\n",
    "\n",
    "# use these lists to store the loss values during the training, so you can visualize them later in a curve\n",
    "train_loss = [] \n",
    "test_loss = []\n",
    "\n",
    "learning_rate = 0.001\n",
    "num_iter = 10000 # iterate this many times to update the weights\n",
    "for i in range(num_iter):\n",
    "    # Forward pass\n",
    "    p_Ytrain = forward(Xtrain, W, b)\n",
    "    p_Ytest = forward(Xtest, W, b)\n",
    "    \n",
    "    # Loss computation\n",
    "    train_loss.append(cross_entropy(Ytrain, p_Ytrain))\n",
    "    test_loss.append(cross_entropy(Ytest, p_Ytest))\n",
    "    \n",
    "    # Gradient computation\n",
    "    # dw = (1 / Xtrain.shape[0]) * np.dot(Xtrain.T, (p_Ytrain - Ytrain).T)\n",
    "    # db = (1 / Xtrain.shape[0]) * np.sum(p_Ytrain - Ytrain)\n",
    "    dw = Xtrain.T.dot(p_Ytrain - Ytrain)\n",
    "    db = np.sum(p_Ytrain - Ytrain)\n",
    "    \n",
    "    # Weights update\n",
    "    W -= learning_rate * dw\n",
    "    b -= learning_rate * db"
   ]
  },
  {
   "cell_type": "code",
   "execution_count": 35,
   "metadata": {},
   "outputs": [
    {
     "name": "stdout",
     "output_type": "stream",
     "text": [
      "Final train classification_rate: 0.9992872754917799\n",
      "Final test classification_rate: 0.7469879518072289\n"
     ]
    },
    {
     "data": {
      "image/png": "[encoded data removed]",
      "text/plain": [
       "<Figure size 640x480 with 1 Axes>"
      ]
     },
     "metadata": {},
     "output_type": "display_data"
    }
   ],
   "source": [
    "# evaluate your model after it is trained. What is the accuracy? \n",
    "print(\"Final train classification_rate:\", classification_rate(Ytrain, np.round(p_Ytrain)))\n",
    "print(\"Final test classification_rate:\", classification_rate(Ytest, np.round(p_Ytest)))\n",
    "\n",
    "# finally plot the trajectory of the training curve \n",
    "legend1, = plt.plot(train_loss, label='train loss')\n",
    "legend2, = plt.plot(test_loss, label='test loss')\n",
    "plt.legend([\"train\", \"test\"])\n",
    "plt.show()"
   ]
  },
  {
   "cell_type": "code",
   "execution_count": 36,
   "metadata": {},
   "outputs": [],
   "source": [
    "# unigram only\n",
    "vectorizer_unigram = CountVectorizer(ngram_range=(1, 1))\n",
    "X_train_unigram = vectorizer_unigram.fit_transform(train_text)\n",
    "X_dev_unigram = vectorizer_unigram.transform(dev_text)\n",
    "\n",
    "# create train and test sets. train_label and dev_label was created above.\n",
    "# the Xtrain and Xtest should be the result variable of passing the train_text and dev_text through the vectorizer. \n",
    "\n",
    "Xtrain, Xtest = X_train_unigram, X_dev_unigram\n",
    "Ytrain = np.array(train_label)\n",
    "Ytest = np.array(dev_label)\n",
    "\n",
    "# randomly initialize weights\n",
    "D = Xtrain.shape[1]\n",
    "W = np.random.randn(D)\n",
    "b = 0 # bias term\n",
    "\n",
    "# make predictions\n",
    "def sigmoid(z):\n",
    "    z = np.clip(z, -250, 250)\n",
    "    return 1 / (1 + np.exp(-z))\n",
    "\n",
    "def forward(X, W, b):\n",
    "    return sigmoid(X.dot(W) + b)\n",
    "\n",
    "# calculate the accuracy\n",
    "def classification_rate(Y, Y_HAT):\n",
    "    return np.mean(Y == Y_HAT)\n",
    "\n",
    "# cross entropy\n",
    "def cross_entropy(T, pY):\n",
    "    pY = np.clip(pY, 1e-10, 1-1e-10)\n",
    "    return -np.mean(T*np.log(pY) + (1 - T)*np.log(1 - pY))\n",
    "\n",
    "# train loop\n",
    "\n",
    "# use these lists to store the loss values during the training, so you can visualize them later in a curve\n",
    "train_loss = [] \n",
    "test_loss = []\n",
    "\n",
    "learning_rate = 0.001\n",
    "num_iter = 10000 # iterate this many times to update the weights\n",
    "for i in range(num_iter):\n",
    "    # Forward pass\n",
    "    p_Ytrain = forward(Xtrain, W, b)\n",
    "    p_Ytest = forward(Xtest, W, b)\n",
    "    \n",
    "    # Loss computation\n",
    "    train_loss.append(cross_entropy(Ytrain, p_Ytrain))\n",
    "    test_loss.append(cross_entropy(Ytest, p_Ytest))\n",
    "    \n",
    "    # Gradient computation\n",
    "    dw = Xtrain.T.dot(p_Ytrain - Ytrain)\n",
    "    db = np.sum(p_Ytrain - Ytrain)\n",
    "    \n",
    "    # Weights update\n",
    "    W -= learning_rate * dw\n",
    "    b -= learning_rate * db"
   ]
  },
  {
   "cell_type": "code",
   "execution_count": 37,
   "metadata": {},
   "outputs": [
    {
     "name": "stdout",
     "output_type": "stream",
     "text": [
      "Final train classification_rate: 0.9750546422122969\n",
      "Final test classification_rate: 0.735328410415857\n"
     ]
    },
    {
     "data": {
      "image/png": "[encoded data removed]",
      "text/plain": [
       "<Figure size 640x480 with 1 Axes>"
      ]
     },
     "metadata": {},
     "output_type": "display_data"
    }
   ],
   "source": [
    "# evaluate your model after it is trained. What is the accuracy? \n",
    "print(\"Final train classification_rate:\", classification_rate(Ytrain, np.round(p_Ytrain)))\n",
    "print(\"Final test classification_rate:\", classification_rate(Ytest, np.round(p_Ytest)))\n",
    "\n",
    "# finally plot the trajectory of the training curve \n",
    "legend1, = plt.plot(train_loss, label='train loss')\n",
    "legend2, = plt.plot(test_loss, label='test loss')\n",
    "plt.legend([\"train\", \"test\"])\n",
    "plt.show()"
   ]
  },
  {
   "cell_type": "markdown",
   "metadata": {},
   "source": [
    "# wrapping up\n",
    "\n",
    "You should see your training curve on your train data and dev data above. What do you observe? \n",
    "\n",
    "How does your final train and dev accuracy compare to using NaiveBayes model from last week?"
   ]
  },
  {
   "cell_type": "markdown",
   "metadata": {},
   "source": []
  },
  {
   "cell_type": "markdown",
   "metadata": {},
   "source": [
    "NaiveBayes model data: \n",
    "dev accuracy 0.7329965021375826\n",
    "train accuracy 0.82946878266654\n",
    "\n",
    "Logistic Regression model data:\n",
    "\n",
    "Using TFIDF\n",
    "Final train classification_rate: 0.9338591656371757\n",
    "Final test classification_rate: 0.759813447337738\n",
    "\n",
    "Using unigram+bigram vectors\n",
    "Final train classification_rate: 0.9992872754917799\n",
    "Final test classification_rate: 0.743101438010105\n",
    "\n",
    "Using only unigram vectors\n",
    "Final train classification_rate: 0.9753397320155849\n",
    "Final test classification_rate: 0.7271667314418966\n",
    "\n",
    "For clarity, the graphs shown in this homework are training curves. The y-axis represents the loss value while the x-axis reprsents the epochs (iterations during training).\n",
    "\n",
    "In the first graph (TFIDF), you can observe a sharp decline in loss value for both the training and testing dataset after the first epochs. After more epochs, the loss value begins to plateau for both the training and testing data. This makes sense, as the rapid decline in the beginning indicates the model is learning and adapting to the data. Plateauing of the test data can mean the beginning of overfitting for the training data. \n",
    "\n",
    "In the second graph (unigram+bigram), you can observe a more gradual decline in loss value. It almost approaches 0, which can indicate the start of overfitting to the training data. The dev set loss decreases at a slower rate than the TFIDF graph dev loss, and levels off after a certain number of epochs.\n",
    "\n",
    "In the third graph (unigram), there is an even more gradual decline in loss value. Although it approaches 0, it varies in loss value greatly and for many epochs before plateauing. Similar to the unigram+bigram model, the dev loss set decreases at a slower rate than the TFIDF graph dev loss.\n",
    "\n",
    "For all graphs, it makes sense for loss to drop after the first few epochs as the model learns rapidly about the data, then levels off as overfitting on the training data begins. It also makes sense for the training data have less loss than the testing data, because the model is trained off the training data and so would fit it better. \n",
    "\n",
    "In comparison to the NaivesBayes model, the logistic regression model with unigram+bigram and TFIDF perform better. They both have a higher train and test classification rate than the NaiveBayes model. Logistic regression with TFIDF shows an improvement on the dev set compared to the NaiveBayes model with an accuracy of 0.73 vs. 0.76. Logistic regression with unigram+bigram has a much better training accuracy of 0.99, but has a dev accuracy of 0.74 which is quite similar to the dev accuracy of the NaivesBayes model which is 0.73. The logistic regression model with only unigrams however, does not perform as well. The only unigram training classification rate is high, at 0.97. However, it's final test classficiation rate is at 0.72, which is lower than the test classfication rate of all other models, including the naivebayes model.\n",
    "\n",
    "In summary, it would appear that out of the four models we've tried so far, logistic regression with TFIDF performs the best on classifying general data. The bigram+unigram model is great at fitting training data, but might be overfitting because it isn't doing as well as you'd think on the dev data. Maybe we can apply regularization to the bigram+unigram model to improve its accuracy for non-training data."
   ]
  }
 ],
 "metadata": {
  "kernelspec": {
   "display_name": "Python 3 (ipykernel)",
   "language": "python",
   "name": "python3"
  },
  "language_info": {
   "codemirror_mode": {
    "name": "ipython",
    "version": 3
   },
   "file_extension": ".py",
   "mimetype": "text/x-python",
   "name": "python",
   "nbconvert_exporter": "python",
   "pygments_lexer": "ipython3",
   "version": "3.10.12"
  }
 },
 "nbformat": 4,
 "nbformat_minor": 2
}
