{
 "cells": [
  {
   "cell_type": "markdown",
   "metadata": {},
   "source": [
    "# NLP HWs 4.1 Text Classification with NB\n",
    "\n",
    "In these three homeworks, each week you will use one more model or input representation to perform text classification on the same datasets. \n"
   ]
  },
  {
   "cell_type": "code",
   "execution_count": 1,
   "metadata": {},
   "outputs": [],
   "source": [
    "# util contains data loading functions and classes\n",
    "from util import load_data, Dataset\n",
    "import numpy as np"
   ]
  },
  {
   "cell_type": "markdown",
   "metadata": {},
   "source": [
    "# HW4.1 Naive Bayes\n",
    "\n"
   ]
  },
  {
   "cell_type": "markdown",
   "metadata": {},
   "source": [
    "## PART I: Implement NB from scratch\n",
    "\n",
    "### Details about the Triage dataset\n",
    "\n",
    "The documents in our dataset are either text messages, social media (Twitter) posts, or snippets from news articles. In addition to the specific events listed above the dataset contains a number of news articles spanning dozens of different disasters. All messages have been translated and annotated by humans on the crowdsourcing platform CrowdFlower (now branded under Appen). However, some of the translations are not perfect, and you may encounter some words in other languages. Unfortunately, NLP researchers often have to work with messy data. If you are curious about the crowdsourcing translation effort for messages from Haiti in particular, feel free to check out this paper (https://nlp.stanford.edu/pubs/munro2010translation.pdf).\n",
    "\n",
    "<b>Your task is to classify each document as being aid-related, class AID, or not aid-related, class NOT.</b> Messages that are aid-related include individuals' requests for food, water, or shelter etc. The aid class also includes news reports about dire situations and disaster relief efforts. \n",
    "\n",
    "<b>Training and Validation sets.</b> The data is divided into a training set, development (validation) set, and test set. Recall that the training set is used to learn, compute the statistics for, your model. These statistics are then used to classify the documents in the development and test sets. For this assignment, you should train on the training set and test your model on both the train and dev set. \n",
    "\n"
   ]
  },
  {
   "cell_type": "markdown",
   "metadata": {},
   "source": [
    "### Dataset exploration\n",
    "\n",
    "We use classes defined in ```util.py``` to load data and labels. Take a look at that module to have a deeper understanding of what's in each class. Here are some examples usages to get you started."
   ]
  },
  {
   "cell_type": "code",
   "execution_count": 2,
   "metadata": {},
   "outputs": [
    {
     "name": "stdout",
     "output_type": "stream",
     "text": [
      "<class 'list'>\n",
      "<class 'util.Example'>\n",
      "21046\n"
     ]
    }
   ],
   "source": [
    "# load data\n",
    "from util import load_data\n",
    "dataset = load_data(\"./data/triage\")\n",
    "\n",
    "# explore the dataset class\n",
    "# dataset contains dataset.train and dataset.dev\n",
    "train_data = dataset.train\n",
    "\n",
    "# train_data is a list of items of type Example (defined in util.py. there are 21046 train examples)\n",
    "print(type(train_data))\n",
    "print(type(train_data[0]))\n",
    "print(len(train_data))\n",
    "\n",
    "# you can do the same to explore dataset.dev\n",
    "# you should use only dataset.train for training\n",
    "# and you can test your model on both train and dev"
   ]
  },
  {
   "cell_type": "code",
   "execution_count": 3,
   "metadata": {},
   "outputs": [
    {
     "name": "stdout",
     "output_type": "stream",
     "text": [
      "words: ['thankfully', 'pierre', 'ntsiete', 'school', 'located', 'half', 'a', 'mile', 'from', 'the', 'blasts', 'that', 'launched', 'hundreds', 'of', 'unexploded', 'and', 'unstable', 'munitions', 'across', 'a', '600', '000m2', 'area', 'was', 'closed', 'for', 'the', 'weekend', 'and', 'its', '5', '000', 'pupils', 'had', 'a', 'lucky', 'escape']\n",
      "label: 1\n",
      "words: ['german', 'agro', 'asia', 'is', 'planting', 'mango', 'tree', 'gardens', 'and', 'working', 'to', 'counter', 'the', 'elements', 'by', 'sowing', 'pine', 'saplings', 'to', 'create', 'a', 'windbreak', 'on', 'the', 'beach']\n",
      "label: 0\n"
     ]
    }
   ],
   "source": [
    "# look at each example, let's look at the first one\n",
    "first_data_point = train_data[0]\n",
    "\n",
    "# each example has two parts: the words and label. \n",
    "print(\"words:\",first_data_point.words)\n",
    "print(\"label:\",first_data_point.label)\n",
    "\n",
    "# look at another example\n",
    "fifth_data_point = train_data[5]\n",
    "\n",
    "# each example has two parts: the words and label. \n",
    "print(\"words:\",fifth_data_point.words)\n",
    "print(\"label:\",fifth_data_point.label)"
   ]
  },
  {
   "cell_type": "code",
   "execution_count": null,
   "metadata": {},
   "outputs": [],
   "source": []
  },
  {
   "cell_type": "markdown",
   "metadata": {},
   "source": [
    "### Implementing NB\n",
    "\n",
    "In our textbook SLP3, chapter 4 (https://web.stanford.edu/~jurafsky/slp3/4.pdf), Section 4.2 describes training and testing a NB model. In this exercise, follow chapter 4.2 and the algorithm outlined in Figure 4.2 to implement Naive Bayes algorithm to perform text classification on the data set provided in the ```data``` folder. I've included the screen shots of these algirthms outlines. You can read the textbook to get more detailed description. \n",
    "\n",
    "#### Implement train function using this algorithm from Figure 4.2 in SLP3\n",
    "\n",
    "<img src=\"img/function2.png\" alt=\"Drawing\" style=\"width: 500px;\"/>\n",
    "\n",
    "#### Implement inference function using this algorithm from Figure 4.2 in SLP3\n",
    "<img src=\"img/function1.png\" alt=\"Drawing\" style=\"width: 500px;\"/>"
   ]
  },
  {
   "cell_type": "code",
   "execution_count": 4,
   "metadata": {},
   "outputs": [],
   "source": [
    "def trainNB(dataset:Dataset,C=[0,1]) -> (dict, dict, set):\n",
    "    \"\"\"\n",
    "    implement this function according to the algorithm outlined above. \n",
    "\n",
    "    for classes C, 1 is AID, 0 is NOT, as described above. \n",
    "\n",
    "    return log_prior, log_likelihood, and V as specified in the algorithm.\n",
    "    \"\"\"\n",
    "    N_doc = len(dataset.train)\n",
    "    V = set()  \n",
    "    log_prior = {}\n",
    "    log_likelihood = {}\n",
    "    \n",
    "    bigdoc = {c: [] for c in C}\n",
    "    for example in dataset.train:\n",
    "        V.update(example.words)\n",
    "        bigdoc[example.label].extend(example.words)\n",
    "        \n",
    "    for c in C:\n",
    "        N_c = sum(1 for example in dataset.train if example.label == c)\n",
    "        log_prior[c] = np.log(N_c / N_doc)\n",
    "        \n",
    "        total_word_count_for_class = sum(bigdoc[c].count(word) + 1 for word in V)\n",
    "        \n",
    "        log_likelihood[c] = {}\n",
    "        for word in V:\n",
    "            word_count = bigdoc[c].count(word) + 1  \n",
    "            log_likelihood[c][word] = np.log(word_count / total_word_count_for_class)\n",
    "    \n",
    "    return log_prior, log_likelihood, V    "
   ]
  },
  {
   "cell_type": "code",
   "execution_count": 5,
   "metadata": {},
   "outputs": [],
   "source": [
    "def NB_inference(test_doc:list, log_prior:dict, log_likelihood:dict, C:list, V:set) -> int:\n",
    "    \"\"\"\n",
    "    implement this function to make an inference on a test example. it should return an integer, 0 or 1, these are the two possible classes in the dataset. \n",
    "    \n",
    "    the test_doc argument is represented in the Example class using the words attribute, e.g., in above example in dataset exploration, the test_doc input would be first_data_point.words, which is a list of words\n",
    "\n",
    "    the other arguments of this function, log_prior, log_likelihood, C, and V are all seen above in the trainNB() function. \n",
    "    \n",
    "    \"\"\"\n",
    "    scores = {}\n",
    "    \n",
    "    for c in C:\n",
    "        scores[c] = log_prior[c]\n",
    "        for word in test_doc:\n",
    "            if word in V:  \n",
    "                scores[c] += log_likelihood[c][word]\n",
    "                \n",
    "    return max(scores, key=scores.get)"
   ]
  },
  {
   "cell_type": "markdown",
   "metadata": {},
   "source": [
    "### training NB classifier\n",
    "\n"
   ]
  },
  {
   "cell_type": "code",
   "execution_count": 6,
   "metadata": {},
   "outputs": [
    {
     "name": "stdout",
     "output_type": "stream",
     "text": [
      "accuracy 0.7329965021375826\n",
      "accuracy 0.82946878266654\n"
     ]
    }
   ],
   "source": [
    "# example inference pipeline usage to evaluate your classifier\n",
    "# you can run this as it is, or you are free to add more things to it. \n",
    "\n",
    "def testNB(split, log_prior, log_likelihood, V, C):\n",
    "    \"\"\"\n",
    "    argument: split can be dataset.train or dataset.dev\n",
    "    \"\"\"\n",
    "    inferences = []\n",
    "    for d in split:\n",
    "        result = NB_inference(d.words,log_prior,log_likelihood,C,V)\n",
    "        inferences.append(result)\n",
    "    preds = np.array(inferences)\n",
    "    gts = np.array([d.label for d in split])\n",
    "    assert(len(preds)==len(gts))\n",
    "    print(\"accuracy\",sum(preds==gts)/len(gts))\n",
    "\n",
    "dataset = load_data(\"./data/triage\")\n",
    "C=[0,1]\n",
    "log_prior,log_likelihood,V=trainNB(dataset)\n",
    "\n",
    "# evaluate your model on dev and train\n",
    "testNB(dataset.dev, log_prior, log_likelihood, V, C)\n",
    "testNB(dataset.train, log_prior, log_likelihood, V, C)"
   ]
  },
  {
   "cell_type": "markdown",
   "metadata": {},
   "source": [
    "## Tips\n",
    "\n",
    "1. when you train the model it can take more than a minute. It's a good idea to use a progress bar to track your training progress. you can use https://github.com/tqdm/tqdm\n",
    "\n",
    "2. the expected accuracy on dev data is about 73% and on train data is about 83%. If you are around that number, you should be good to go.\n",
    "\n",
    "3. in the ```util.py``` there are more functions and classes that is currently not used in this notebook. If you want to make use of them, feel free to do so. "
   ]
  },
  {
   "cell_type": "markdown",
   "metadata": {},
   "source": [
    "# PART II: Extra credit (worth extra 20% of this assignment)\n",
    "\n",
    "Use the ```english.stop``` in the ```data``` folder to remove stop words and then train again to see if your accuracy is better. "
   ]
  },
  {
   "cell_type": "markdown",
   "metadata": {},
   "source": []
  },
  {
   "cell_type": "code",
   "execution_count": 11,
   "metadata": {},
   "outputs": [
    {
     "name": "stdout",
     "output_type": "stream",
     "text": [
      "accuracy 0.7306645938593082\n",
      "accuracy 0.8446735721752352\n"
     ]
    }
   ],
   "source": [
    "with open(\"./data/english.stop\", \"r\") as f:\n",
    "    stop_words = set(f.read().splitlines())\n",
    "\n",
    "def filter_stop_words(dataset, stop_words):\n",
    "    for example in dataset:\n",
    "        example.words = [word for word in example.words if word not in stop_words]\n",
    "\n",
    "filter_stop_words(dataset.train, stop_words)\n",
    "filter_stop_words(dataset.dev, stop_words)\n",
    "\n",
    "log_prior, log_likelihood, V = trainNB(dataset)\n",
    "testNB(dataset.dev, log_prior, log_likelihood, V, C)\n",
    "testNB(dataset.train, log_prior, log_likelihood, V, C)\n"
   ]
  },
  {
   "cell_type": "markdown",
   "metadata": {},
   "source": [
    "Accuracy is around the same. Training accuracy is a negligible amount worse and testing accuracy is around ~1% better."
   ]
  },
  {
   "cell_type": "code",
   "execution_count": null,
   "metadata": {},
   "outputs": [],
   "source": []
  }
 ],
 "metadata": {
  "kernelspec": {
   "display_name": "Python 3 (ipykernel)",
   "language": "python",
   "name": "python3"
  },
  "language_info": {
   "codemirror_mode": {
    "name": "ipython",
    "version": 3
   },
   "file_extension": ".py",
   "mimetype": "text/x-python",
   "name": "python",
   "nbconvert_exporter": "python",
   "pygments_lexer": "ipython3",
   "version": "3.10.12"
  }
 },
 "nbformat": 4,
 "nbformat_minor": 2
}
